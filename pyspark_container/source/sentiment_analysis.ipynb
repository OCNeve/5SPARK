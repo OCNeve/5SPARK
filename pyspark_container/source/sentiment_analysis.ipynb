{
 "cells": [
  {
   "cell_type": "code",
   "execution_count": 1,
   "id": "a9159258-075e-468e-b7ff-6f133a82b21e",
   "metadata": {},
   "outputs": [],
   "source": [
    "from pyspark.ml.feature import Tokenizer, CountVectorizer\n",
    "from pyspark.ml.classification import LogisticRegression\n",
    "from pyspark.ml.feature import StringIndexer\n",
    "from pyspark.ml import Pipeline\n",
    "from pyspark.ml.evaluation import MulticlassClassificationEvaluator\n",
    "from pyspark.sql import SparkSession"
   ]
  },
  {
   "cell_type": "code",
   "execution_count": 2,
   "id": "e614d7ea-e04d-486a-b61d-ee2b69eac4c1",
   "metadata": {},
   "outputs": [],
   "source": [
    "spark = SparkSession.builder \\\n",
    "    .appName(\"MastodonStreamProcessor\") \\\n",
    "    .master(\"local[*]\") \\\n",
    "    .config(\"spark.driver.memory\", \"4g\") \\\n",
    "    .config(\"spark.executor.memory\", \"4g\") \\\n",
    "    .config(\"spark.sql.shuffle.partitions\", \"8\") \\\n",
    "    .config(\"spark.jars.packages\", \n",
    "            \"org.apache.spark:spark-sql-kafka-0-10_2.12:3.5.3,\"\n",
    "            \"org.apache.kafka:kafka-clients:3.3.1,\"\n",
    "            \"org.postgresql:postgresql:42.2.18\") \\\n",
    "    .config(\"spark.sql.streaming.checkpointLocation\", \"/tmp/spark_checkpoint\") \\\n",
    "    .config(\"spark.driver.extraJavaOptions\", \"-Dlog4j.configuration=file:/correct/path/to/log4j.properties\") \\\n",
    "    .getOrCreate()\n"
   ]
  },
  {
   "cell_type": "code",
   "execution_count": 5,
   "id": "de24a5d9-c86e-4fd5-b138-626730986df3",
   "metadata": {},
   "outputs": [],
   "source": [
    "class TweetSentimentAnalysis:\n",
    "    def __init__(self):\n",
    "        self.data = spark.read.csv(\"/home/jovyan/work/data/data.csv\", header=False, inferSchema=True)\n",
    "\n",
    "        self.data = self.data.withColumnRenamed(\"_c0\", \"target\") \\\n",
    "                   .withColumnRenamed(\"_c1\", \"ids\") \\\n",
    "                   .withColumnRenamed(\"_c2\", \"date\") \\\n",
    "                   .withColumnRenamed(\"_c3\", \"flag\") \\\n",
    "                   .withColumnRenamed(\"_c4\", \"user\") \\\n",
    "                   .withColumnRenamed(\"_c5\", \"text\")\n",
    "    def show_dataset(self):\n",
    "        self.data.show(5)\n",
    "\n",
    "    def preprocess_data(self):\n",
    "        self.tokenizer = Tokenizer(inputCol=\"text\", outputCol=\"words\")\n",
    "        tokenized_data = self.tokenizer.transform(self.data)\n",
    "        \n",
    "        self.vectorizer = CountVectorizer(inputCol=\"words\", outputCol=\"features\")\n",
    "        self.vectorized_data = self.vectorizer.fit(tokenized_data).transform(tokenized_data)\n",
    "        \n",
    "        self.vectorized_data.select(\"text\", \"words\", \"features\").show(5)\n",
    "\n",
    "    def train_model(self):\n",
    "        self.data = self.data.withColumn(\"label\", (self.data.target / 4).cast(\"int\"))  # Normalize target (0 -> 0, 4 -> 1)\n",
    "        \n",
    "        train_data, self.test_data = self.data.randomSplit([0.8, 0.2], seed=42)\n",
    "        \n",
    "        lr = LogisticRegression(featuresCol=\"features\", labelCol=\"label\")\n",
    "        \n",
    "        pipeline = Pipeline(stages=[self.tokenizer, self.vectorizer, lr])\n",
    "        \n",
    "        self.model = pipeline.fit(train_data)\n",
    "\n",
    "    def evaluate_model(self):\n",
    "        predictions = self.model.transform(self.test_data)\n",
    "        \n",
    "        evaluator = MulticlassClassificationEvaluator(labelCol=\"label\", predictionCol=\"prediction\", metricName=\"accuracy\")\n",
    "        accuracy = evaluator.evaluate(predictions)\n",
    "        \n",
    "        print(f\"Test Accuracy: {accuracy}\")\n",
    "\n"
   ]
  },
  {
   "cell_type": "code",
   "execution_count": 6,
   "id": "146c06a7-76c3-426b-a696-971b79669038",
   "metadata": {},
   "outputs": [],
   "source": [
    "tsa = TweetSentimentAnalysis()"
   ]
  },
  {
   "cell_type": "code",
   "execution_count": 7,
   "id": "1002c5e8-738f-4243-b702-a6882722fef3",
   "metadata": {},
   "outputs": [
    {
     "name": "stdout",
     "output_type": "stream",
     "text": [
      "+------+----------+--------------------+--------+---------------+--------------------+\n",
      "|target|       ids|                date|    flag|           user|                text|\n",
      "+------+----------+--------------------+--------+---------------+--------------------+\n",
      "|     0|1467810369|Mon Apr 06 22:19:...|NO_QUERY|_TheSpecialOne_|@switchfoot http:...|\n",
      "|     0|1467810672|Mon Apr 06 22:19:...|NO_QUERY|  scotthamilton|is upset that he ...|\n",
      "|     0|1467810917|Mon Apr 06 22:19:...|NO_QUERY|       mattycus|@Kenichan I dived...|\n",
      "|     0|1467811184|Mon Apr 06 22:19:...|NO_QUERY|        ElleCTF|my whole body fee...|\n",
      "|     0|1467811193|Mon Apr 06 22:19:...|NO_QUERY|         Karoli|@nationwideclass ...|\n",
      "+------+----------+--------------------+--------+---------------+--------------------+\n",
      "only showing top 5 rows\n",
      "\n"
     ]
    }
   ],
   "source": [
    "tsa.show_dataset()"
   ]
  },
  {
   "cell_type": "code",
   "execution_count": 8,
   "id": "d6ecd2c7-6d63-48de-b172-7864b9d7759e",
   "metadata": {},
   "outputs": [
    {
     "name": "stdout",
     "output_type": "stream",
     "text": [
      "+--------------------+--------------------+--------------------+\n",
      "|                text|               words|            features|\n",
      "+--------------------+--------------------+--------------------+\n",
      "|@switchfoot http:...|[@switchfoot, htt...|(262144,[1,2,4,7,...|\n",
      "|is upset that he ...|[is, upset, that,...|(262144,[1,4,6,8,...|\n",
      "|@Kenichan I dived...|[@kenichan, i, di...|(262144,[0,1,2,3,...|\n",
      "|my whole body fee...|[my, whole, body,...|(262144,[5,6,13,3...|\n",
      "|@nationwideclass ...|[@nationwideclass...|(262144,[0,7,18,2...|\n",
      "+--------------------+--------------------+--------------------+\n",
      "only showing top 5 rows\n",
      "\n"
     ]
    }
   ],
   "source": [
    "tsa.preprocess_data()"
   ]
  },
  {
   "cell_type": "code",
   "execution_count": 9,
   "id": "b5a83842-8045-416b-9921-699d1f37a5ab",
   "metadata": {},
   "outputs": [],
   "source": [
    "tsa.train_model()"
   ]
  },
  {
   "cell_type": "code",
   "execution_count": 10,
   "id": "b7d4bbd3-8b48-4638-aa8a-9bdfda13d64a",
   "metadata": {},
   "outputs": [
    {
     "name": "stdout",
     "output_type": "stream",
     "text": [
      "Test Accuracy: 0.7658045482560013\n"
     ]
    }
   ],
   "source": [
    "tsa.evaluate_model()"
   ]
  },
  {
   "cell_type": "code",
   "execution_count": 17,
   "id": "37a32911-bfdb-45c5-b87a-005504057994",
   "metadata": {},
   "outputs": [],
   "source": [
    "jdbc_url = \"jdbc:postgresql://postgres:5432/postgres\"\n",
    "connection_properties = {\n",
    "    \"user\": \"postgres\",\n",
    "    \"password\": \"postgres\",\n",
    "    \"driver\": \"org.postgresql.Driver\"\n",
    "}\n"
   ]
  },
  {
   "cell_type": "code",
   "execution_count": 18,
   "id": "d9c1a419-3cb8-4fe3-92fb-5023cc36ed4e",
   "metadata": {},
   "outputs": [],
   "source": [
    "def batch_sentiment_analysis(data):\n",
    "    data_predictions = tsa.model.transform(data)\n",
    "    data_predictions.select(\"text\", \"prediction\").write \\\n",
    "        .jdbc(url=jdbc_url, table=\"sentiment_analysis\", mode=\"append\", properties=connection_properties)"
   ]
  },
  {
   "cell_type": "code",
   "execution_count": 19,
   "id": "ee53e5b3-908c-422a-bdf2-26fbeda23e0b",
   "metadata": {},
   "outputs": [],
   "source": [
    "batch_data = spark.read.csv(\"/home/jovyan/work/data/data.csv\", header=False, inferSchema=True)\n",
    "\n",
    "batch_data = batch_data.withColumnRenamed(\"_c0\", \"target\") \\\n",
    "           .withColumnRenamed(\"_c1\", \"ids\") \\\n",
    "           .withColumnRenamed(\"_c2\", \"date\") \\\n",
    "           .withColumnRenamed(\"_c3\", \"flag\") \\\n",
    "           .withColumnRenamed(\"_c4\", \"user\") \\\n",
    "           .withColumnRenamed(\"_c5\", \"text\")"
   ]
  },
  {
   "cell_type": "code",
   "execution_count": 20,
   "id": "2f163cf8-d2ea-4786-9be9-96499f124831",
   "metadata": {},
   "outputs": [],
   "source": [
    "batch_sentiment_analysis(batch_data)"
   ]
  }
 ],
 "metadata": {
  "kernelspec": {
   "display_name": "Python 3 (ipykernel)",
   "language": "python",
   "name": "python3"
  },
  "language_info": {
   "codemirror_mode": {
    "name": "ipython",
    "version": 3
   },
   "file_extension": ".py",
   "mimetype": "text/x-python",
   "name": "python",
   "nbconvert_exporter": "python",
   "pygments_lexer": "ipython3",
   "version": "3.11.6"
  }
 },
 "nbformat": 4,
 "nbformat_minor": 5
}
